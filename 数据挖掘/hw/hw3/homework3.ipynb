{
 "cells": [
  {
   "cell_type": "markdown",
   "metadata": {},
   "source": [
    "# Homework3\n",
    "\n",
    "提高2101班杨筠松 U202115980\n",
    "\n",
    "### 6.1 \n",
    "基于课本的概念和设计，我们可以得到如下的算法\n",
    "\n"
   ]
  },
  {
   "cell_type": "code",
   "execution_count": 1,
   "metadata": {},
   "outputs": [],
   "source": [
    "def itemset_freq_tester(C, X):\n",
    "    \"\"\"\n",
    "    判断项集 X 是否频繁，并返回它的支持度。\n",
    "    \n",
    "    参数:\n",
    "    C - 所有频繁闭合项集及其支持度计数的集合\n",
    "    X - 要测试的项集\n",
    "    \n",
    "    返回值:\n",
    "    如果项集 X 频繁，则返回其支持度；否则，返回 -1。\n",
    "    \"\"\"\n",
    "    s = None  # 初始化 s 为 None，表示还没有找到包含 X 的频繁闭合项集\n",
    "    \n",
    "    # 遍历所有的频繁闭合项集\n",
    "    for l in C:\n",
    "        # 检查 X 是否是 l 的子集且 l 是目前找到的最小的频繁闭合项集\n",
    "        if X.issubset(l) and (s is None or len(l) < len(s)):\n",
    "            s = l  # 更新 s 为 l\n",
    "    \n",
    "    # 如果找到了包含 X 的频繁闭合项集，返回其支持度\n",
    "    if s is not None:\n",
    "        return C[s]  # 假设 C 是字典，键为项集，值为支持度\n",
    "    else:\n",
    "        # 如果没有找到，返回 -1\n",
    "        return -1"
   ]
  },
  {
   "cell_type": "code",
   "execution_count": 2,
   "metadata": {},
   "outputs": [
    {
     "name": "stdout",
     "output_type": "stream",
     "text": [
      "项集 {'b', 'a'} 的支持度是：7\n",
      "项集 {'b'} 的支持度是：7\n",
      "项集 {'c'} 的支持度是：10\n",
      "项集 {'a', 'c'} 的支持度是：5\n",
      "项集 {'d'} 的支持度是：-1\n",
      "项集 {'a', 'd'} 的支持度是：-1\n"
     ]
    }
   ],
   "source": [
    "# 定义频繁闭合项集及其支持度\n",
    "C = {\n",
    "    frozenset({'a', 'b', 'c'}): 5,\n",
    "    frozenset({'a', 'b'}): 7,\n",
    "    frozenset({'b', 'c'}): 6,\n",
    "    frozenset({'c'}): 10,\n",
    "    frozenset({'a'}): 8\n",
    "}\n",
    "\n",
    "# 测试项集\n",
    "test_itemsets = [\n",
    "    {'a', 'b'}, # 应该返回 7\n",
    "    {'b'},      # 应该返回最小的包含'b'的项集的支持度，这里是 6\n",
    "    {'c'},      # 应该返回 10\n",
    "    {'a', 'c'}, # 应该返回 5\n",
    "    {'d'},      # 不在 C 中，应该返回 -1\n",
    "    {'a', 'd'}  # 不在 C 中，应该返回 -1\n",
    "]\n",
    "\n",
    "# 执行测试\n",
    "for test_itemset in test_itemsets:\n",
    "    support = itemset_freq_tester(C, frozenset(test_itemset))\n",
    "    print(f\"项集 {test_itemset} 的支持度是：{support}\")"
   ]
  },
  {
   "cell_type": "markdown",
   "metadata": {},
   "source": [
    "### 6.2 \n",
    "\n",
    "假设从事务数据库 `D` 中的生成式 `generator`，如果不存在真子集 `Y ⊂ X` 使得 `support(X) = support(Y)`。生成式 `X` 是频繁的生成式，则 `support(X)` 即是最小支持度阈值。设 `G` 是数据库 `D` 所有频繁的生成式的集合。\n",
    "\n",
    "(a) 仅使用 `G` 和它们的支持度计数，你能确定项集 `A` 是否频繁，并且如果 `A` 频繁，确定 `A` 的支持度吗？如果能，给出你的算法。否则，还需要什么信息？假定有所需要的信息，你能给出一个算法吗？\n",
    "\n",
    "(b) 闭集频繁项集的概念是什么？"
   ]
  },
  {
   "cell_type": "code",
   "execution_count": 4,
   "metadata": {},
   "outputs": [],
   "source": [
    "# 假设支持度函数和生成式集合G已经给定\n",
    "def support(itemset):\n",
    "    # 这里应该是查询数据库或者计算给定项集的支持度的实际函数\n",
    "    # 暂时使用一个示例字典来模拟\n",
    "    example_supports = {\n",
    "        frozenset({'a'}): 0.6,\n",
    "        frozenset({'b'}): 0.7,\n",
    "        frozenset({'c'}): 0.5,\n",
    "        frozenset({'a', 'b'}): 0.4,\n",
    "        frozenset({'a', 'c'}): 0.3,\n",
    "        frozenset({'b', 'c'}): 0.2,\n",
    "        frozenset({'a', 'b', 'c'}): 0.1\n",
    "    }\n",
    "    return example_supports.get(itemset, 0)\n",
    "\n",
    "# 判断一个项集是否为频繁生成式\n",
    "def is_freq_generator(A, G):\n",
    "    A = frozenset(A)\n",
    "    for gen in G:\n",
    "        if A == gen or A.issuperset(gen):\n",
    "            # 判断是否所有真子集的支持度都不等于A的支持度\n",
    "            if all(support(A) != support(subset) for subset in powerset(A) if subset and subset != A):\n",
    "                return True, support(A)\n",
    "    return False, None\n",
    "\n",
    "# 生成所有真子集的函数\n",
    "def powerset(iterable):\n",
    "    from itertools import chain, combinations\n",
    "    s = list(iterable)\n",
    "    return chain.from_iterable(combinations(s, r) for r in range(1, len(s)))"
   ]
  },
  {
   "cell_type": "code",
   "execution_count": 5,
   "metadata": {},
   "outputs": [
    {
     "name": "stdout",
     "output_type": "stream",
     "text": [
      "项集 {'a'} 是 频繁, 支持度是: 0.6\n",
      "项集 {'b', 'a'} 是 频繁, 支持度是: 0.4\n",
      "项集 {'c'} 是 不频繁, 支持度是: None\n",
      "项集 {'b', 'a', 'c'} 是 频繁, 支持度是: 0.1\n"
     ]
    }
   ],
   "source": [
    "# 频繁生成式集合G的例子\n",
    "G = {\n",
    "    frozenset({'a'}),\n",
    "    frozenset({'b'}),\n",
    "    frozenset({'a', 'b'})\n",
    "}\n",
    "\n",
    "# 测试项集A\n",
    "test_itemsets = [\n",
    "    {'a'},          # 频繁\n",
    "    {'a', 'b'},     # 频繁\n",
    "    {'c'},          # 不频繁\n",
    "    {'a', 'b', 'c'} # 不频繁\n",
    "]\n",
    "\n",
    "# 执行测试\n",
    "for test_itemset in test_itemsets:\n",
    "    freq, supp = is_freq_generator(test_itemset, G)\n",
    "    status = '频繁' if freq else '不频繁'\n",
    "    print(f\"项集 {test_itemset} 是 {status}, 支持度是: {supp}\")"
   ]
  },
  {
   "cell_type": "markdown",
   "metadata": {},
   "source": [
    "### 6.3\n",
    "\n",
    "使用Apriori算法进行关联规则挖掘的基本步骤。\n",
    "\n",
    "- (a) 计算频繁项集的所有非空子集一定也是频繁的。\n",
    "- (b) 计算项集的任意非空子集的支持度计数与该项集的支持度一样大。\n",
    "- (c) 当定频繁项集I和任意子集s，证明如果“s⇒I\\s”的置信度不可能大于“s⇒I”置信度的情况。\n",
    "- (d) Apriori算法的一种变形考虑到事务数据库D中的事务并不总是等价的。证明在D中频繁的项集是少在D的一个分区中也频繁的。"
   ]
  },
  {
   "cell_type": "code",
   "execution_count": 11,
   "metadata": {},
   "outputs": [],
   "source": [
    "from itertools import combinations\n",
    "\n",
    "def get_subsets(itemset):\n",
    "    \"\"\"生成给定项集的所有非空子集\"\"\"\n",
    "    subsets = []\n",
    "    for i in range(1, len(itemset) + 1):\n",
    "        subsets.extend([set(x) for x in combinations(itemset, i)])\n",
    "    return subsets\n",
    "\n",
    "def get_support(itemset, transactions):\n",
    "    \"\"\"计算项集在事务数据库中的支持度计数\"\"\"\n",
    "    count = sum(1 for transaction in transactions if itemset.issubset(transaction))\n",
    "    return count / len(transactions)\n",
    "\n",
    "def get_confidence(rule, transactions):\n",
    "    \"\"\"计算规则的置信度\"\"\"\n",
    "    subset_support = get_support(rule[0], transactions)\n",
    "    rule_support = get_support(rule[0].union(rule[1]), transactions)\n",
    "    confidence = rule_support / subset_support if subset_support != 0 else 0\n",
    "    return confidence\n",
    "\n",
    "def is_frequent_in_partition(itemset, partition, min_support):\n",
    "    \"\"\"验证项集是否在给定分区中是频繁的\"\"\"\n",
    "    support = get_support(itemset, partition)\n",
    "    return support >= min_support"
   ]
  },
  {
   "cell_type": "code",
   "execution_count": 12,
   "metadata": {},
   "outputs": [
    {
     "name": "stdout",
     "output_type": "stream",
     "text": [
      "所有非空子集一定也是频繁的:\n",
      "{'b'} 是频繁的: 0.8333333333333334\n",
      "{'a'} 是频繁的: 0.6666666666666666\n",
      "{'c'} 是频繁的: 0.8333333333333334\n",
      "{'b', 'a'} 是频繁的: 0.5\n",
      "{'b', 'c'} 是频繁的: 0.6666666666666666\n",
      "{'a', 'c'} 是频繁的: 0.5\n",
      "{'b', 'a', 'c'} 是频繁的: 0.3333333333333333\n",
      "\n",
      "任意非空子集的支持度计数与项集的支持度一样大:\n",
      "{'b'} 的支持度: 0.8333333333333334\n",
      "{'a'} 的支持度: 0.6666666666666666\n",
      "{'c'} 的支持度: 0.8333333333333334\n",
      "{'b', 'a'} 的支持度: 0.5\n",
      "{'b', 'c'} 的支持度: 0.6666666666666666\n",
      "{'a', 'c'} 的支持度: 0.5\n",
      "{'b', 'a', 'c'} 的支持度: 0.3333333333333333\n",
      "\n",
      "置信度比较:\n",
      "s⇒I\\s 的置信度: 0.6666666666666666\n",
      "s⇒I 的置信度: 0.6666666666666666\n",
      "\n",
      "项集在分区中也是频繁的:\n",
      "{'b', 'a', 'c'} 在分区中是频繁的: False\n"
     ]
    }
   ],
   "source": [
    "# 测试事务数据库\n",
    "transactions = [\n",
    "    {'a', 'b', 'c'},\n",
    "    {'a', 'b'},\n",
    "    {'a', 'c'},\n",
    "    {'b', 'c'},\n",
    "    {'a', 'b', 'c', 'd'},\n",
    "    {'b', 'c', 'd'}\n",
    "]\n",
    "\n",
    "# 选择一个频繁项集\n",
    "frequent_itemset = {'a', 'b', 'c'}\n",
    "\n",
    "# (a) 验证频繁项集的所有非空子集一定也是频繁的\n",
    "print(\"所有非空子集一定也是频繁的:\")\n",
    "for subset in get_subsets(frequent_itemset):\n",
    "    print(f\"{subset} 是频繁的: {get_support(subset, transactions)}\")\n",
    "\n",
    "# (b) 验证项集的任意非空子集的支持度计数\n",
    "print(\"\\n任意非空子集的支持度计数与项集的支持度一样大:\")\n",
    "for subset in get_subsets(frequent_itemset):\n",
    "    print(f\"{subset} 的支持度: {get_support(subset, transactions)}\")\n",
    "\n",
    "# (c) 比较规则 \"s⇒I\\s\" 和 \"s⇒I\" 的置信度\n",
    "s = {'a', 'b'}\n",
    "I = frequent_itemset\n",
    "confidence_s_I_minus_s = get_confidence((s, I.difference(s)), transactions)\n",
    "confidence_s_I = get_confidence((s, I), transactions)\n",
    "print(\"\\n置信度比较:\")\n",
    "print(f\"s⇒I\\\\s 的置信度: {confidence_s_I_minus_s}\")\n",
    "print(f\"s⇒I 的置信度: {confidence_s_I}\")\n",
    "\n",
    "# (d) 验证在事务数据库D中的项集在D的一个分区中也是频繁的\n",
    "partition = transactions[:3]  # 分区D的前三个事务\n",
    "print(\"\\n项集在分区中也是频繁的:\")\n",
    "print(f\"{frequent_itemset} 在分区中是频繁的: {is_frequent_in_partition(frequent_itemset, partition, 0.5)}\")\n"
   ]
  },
  {
   "cell_type": "markdown",
   "metadata": {},
   "source": [
    "### 6.4\n",
    "在Apriori算法中，has_infrequent_subset 函数用于剪枝过程。其目的是检查候选项集 \n",
    "c 是否包含非频繁的子集。如果包含，这个候选项集不可能是频繁的，因此可以被剪掉。根据频繁项集的阿普里奥里（Apriori）属性，如果一个项集是频繁的，那么它的所有子集也一定是频繁的。因此，只有当一个项集的所有子集都是频繁的，这个项集才有可能是频繁的。"
   ]
  },
  {
   "cell_type": "code",
   "execution_count": 13,
   "metadata": {},
   "outputs": [],
   "source": [
    "def has_infrequent_subset(c, L_k_minus_1):\n",
    "    \"\"\"检查候选项集c是否包含非频繁的(k-1)项子集\"\"\"\n",
    "    k_minus_1_subsets = list(itertools.combinations(c, len(c) - 1))\n",
    "    for subset in k_minus_1_subsets:\n",
    "        if frozenset(subset) not in L_k_minus_1:\n",
    "            return True\n",
    "    return False"
   ]
  },
  {
   "cell_type": "markdown",
   "metadata": {},
   "source": [
    "在这个函数中，`L_k_minus_1`是前一步找到的所有频繁的 \\( k-1 \\) 项集的集合。我们通过检查候选项集 `c` 的每个 \\( k-1 \\) 项子集是否在 `L_k_minus_1` 中来确定 `c` 是否包含非频繁的子集。如果任何一个子集不在 `L_k_minus_1` 中，这意味着这个子集是非频繁的，因此 `c` 也是非频繁的，函数返回 `True`。如果所有的子集都是频繁的，函数返回 `False`，候选项集 `c` 可能是频繁的。\n"
   ]
  },
  {
   "cell_type": "markdown",
   "metadata": {},
   "source": [
    "### 6.5\n",
    "假设：\n",
    "\n",
    "- 6.3(b): 频繁项集的所有非空子集一定也是频繁的。\n",
    "- 6.3(c): 关联规则 A → B 的置信度是由 A 支持度和 A ∪ B（即 A 和 B 的并集）的支持度计算出来的。因此，如果 B 不是频繁的，A → B 的置信度将无法满足最小置信度要求。\n",
    "\n",
    "考虑到这些性质，生成关联规则的有效方法会利用已知的频繁项集以及它们的支持度，而不需要重新计算任何一个子集的支持度。这种方法会使用一个由单个项逐步构建的过程，每次只考虑那些已知为频繁的项集作为规则的右侧（后件），这样可以确保规则的置信度计算是基于有效信息的。"
   ]
  },
  {
   "cell_type": "code",
   "execution_count": 19,
   "metadata": {},
   "outputs": [],
   "source": [
    "from itertools import combinations\n",
    "\n",
    "def generate_association_rules(frequent_itemsets, min_confidence):\n",
    "    rules = []\n",
    "    for I, support_I in frequent_itemsets.items():\n",
    "        # 从1开始，因为至少需要一个元素的子集到len(I)-1，因为我们不想要整个集合\n",
    "        for i in range(1, len(I)):\n",
    "            for A in combinations(I, i):\n",
    "                A = frozenset(A)\n",
    "                B = I - A\n",
    "                confidence = support_I / frequent_itemsets[A]\n",
    "                if confidence >= min_confidence:\n",
    "                    rules.append((A, B, confidence, support_I))\n",
    "    return rules"
   ]
  },
  {
   "cell_type": "code",
   "execution_count": 20,
   "metadata": {},
   "outputs": [
    {
     "name": "stdout",
     "output_type": "stream",
     "text": [
      "规则: {'bread'} -> {'milk'}, 置信度: 0.80, 支持度: 0.40\n"
     ]
    }
   ],
   "source": [
    "# 示例数据和测试\n",
    "frequent_itemsets = {\n",
    "    frozenset({'milk', 'bread'}): 0.4,\n",
    "    frozenset({'bread'}): 0.5,\n",
    "    frozenset({'milk'}): 0.6\n",
    "}\n",
    "\n",
    "rules = generate_association_rules(frequent_itemsets, 0.7)\n",
    "for rule in rules:\n",
    "    print(f\"规则: {set(rule[0])} -> {set(rule[1])}, 置信度: {rule[2]:.2f}, 支持度: {rule[3]:.2f}\")"
   ]
  },
  {
   "cell_type": "markdown",
   "metadata": {},
   "source": []
  }
 ],
 "metadata": {
  "kernelspec": {
   "display_name": "Python 3",
   "language": "python",
   "name": "python3"
  },
  "language_info": {
   "codemirror_mode": {
    "name": "ipython",
    "version": 3
   },
   "file_extension": ".py",
   "mimetype": "text/x-python",
   "name": "python",
   "nbconvert_exporter": "python",
   "pygments_lexer": "ipython3",
   "version": "3.12.2"
  }
 },
 "nbformat": 4,
 "nbformat_minor": 4
}
